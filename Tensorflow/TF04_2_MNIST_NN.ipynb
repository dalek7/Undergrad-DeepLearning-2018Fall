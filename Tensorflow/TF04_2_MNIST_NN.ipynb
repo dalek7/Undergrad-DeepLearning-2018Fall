{
 "cells": [
  {
   "cell_type": "markdown",
   "metadata": {},
   "source": [
    "## MNIST Dataset 분류기 with Feedforward Neural Networks"
   ]
  },
  {
   "cell_type": "code",
   "execution_count": null,
   "metadata": {},
   "outputs": [],
   "source": [
    "* 한림대학교 딥러닝이해및활용 (710231)에 사용된 코드입니다. "
   ]
  },
  {
   "cell_type": "code",
   "execution_count": 1,
   "metadata": {},
   "outputs": [],
   "source": [
    "import tensorflow as tf\n",
    "import random\n",
    "from tensorflow.examples.tutorials.mnist import input_data\n",
    "import matplotlib.pyplot as plt"
   ]
  },
  {
   "cell_type": "code",
   "execution_count": 2,
   "metadata": {},
   "outputs": [],
   "source": [
    "tf.set_random_seed(777)  # reproducibility"
   ]
  },
  {
   "cell_type": "code",
   "execution_count": 3,
   "metadata": {},
   "outputs": [
    {
     "name": "stdout",
     "output_type": "stream",
     "text": [
      "Extracting ./MNIST_data/train-images-idx3-ubyte.gz\n",
      "Extracting ./MNIST_data/train-labels-idx1-ubyte.gz\n",
      "Extracting ./MNIST_data/t10k-images-idx3-ubyte.gz\n",
      "Extracting ./MNIST_data/t10k-labels-idx1-ubyte.gz\n"
     ]
    }
   ],
   "source": [
    "mnist = input_data.read_data_sets(\"./MNIST_data/\", one_hot=True)"
   ]
  },
  {
   "cell_type": "code",
   "execution_count": 4,
   "metadata": {},
   "outputs": [],
   "source": [
    "# parameters\n",
    "learning_rate = 0.001\n",
    "training_epochs = 50 #전체 데이터를 50번 학습하겠다\n",
    "batch_size = 128"
   ]
  },
  {
   "cell_type": "code",
   "execution_count": 5,
   "metadata": {},
   "outputs": [],
   "source": [
    "# input place holders\n",
    "X = tf.placeholder(tf.float32, [None, 784])\n",
    "Y = tf.placeholder(tf.float32, [None, 10])"
   ]
  },
  {
   "cell_type": "code",
   "execution_count": 6,
   "metadata": {},
   "outputs": [],
   "source": [
    "W1 = tf.Variable(tf.random_normal([784, 256]))\n",
    "b1 = tf.Variable(tf.random_normal([256]))\n",
    "L1 = tf.nn.relu(tf.matmul(X, W1) + b1)\n",
    "\n",
    "W2 = tf.Variable(tf.random_normal([256, 256]))\n",
    "b2 = tf.Variable(tf.random_normal([256]))\n",
    "L2 = tf.nn.relu(tf.matmul(L1, W2) + b2)\n",
    "\n",
    "W3 = tf.Variable(tf.random_normal([256, 10]))\n",
    "b3 = tf.Variable(tf.random_normal([10]))\n",
    "hypothesis = tf.matmul(L2, W3) + b3"
   ]
  },
  {
   "cell_type": "code",
   "execution_count": 7,
   "metadata": {},
   "outputs": [],
   "source": [
    "# define cost/loss & optimizer\n",
    "cost = tf.reduce_mean(tf.nn.softmax_cross_entropy_with_logits(logits=hypothesis, labels=Y))\n",
    "#cost = tf.reduce_mean(tf.square(hypothesis - Y))\n",
    "\n",
    "optimizer = tf.train.AdamOptimizer(learning_rate=learning_rate).minimize(cost)"
   ]
  },
  {
   "cell_type": "code",
   "execution_count": 8,
   "metadata": {},
   "outputs": [],
   "source": [
    "# initialize\n",
    "sess = tf.InteractiveSession()\n",
    "sess.run(tf.global_variables_initializer())"
   ]
  },
  {
   "cell_type": "code",
   "execution_count": 9,
   "metadata": {},
   "outputs": [],
   "source": [
    "vc = []"
   ]
  },
  {
   "cell_type": "code",
   "execution_count": 10,
   "metadata": {},
   "outputs": [
    {
     "name": "stdout",
     "output_type": "stream",
     "text": [
      "Epoch: 0001 cost = 158.015081308\n",
      "Epoch: 0002 cost = 43.147294654\n",
      "Epoch: 0003 cost = 27.380732906\n",
      "Epoch: 0004 cost = 19.392288730\n",
      "Epoch: 0005 cost = 14.570627533\n",
      "Epoch: 0006 cost = 11.052041183\n",
      "Epoch: 0007 cost = 8.545590762\n",
      "Epoch: 0008 cost = 6.533088075\n",
      "Epoch: 0009 cost = 4.975086565\n",
      "Epoch: 0010 cost = 3.804699375\n",
      "Epoch: 0011 cost = 2.975359216\n",
      "Epoch: 0012 cost = 2.380034756\n",
      "Epoch: 0013 cost = 1.668243030\n",
      "Epoch: 0014 cost = 1.451139176\n",
      "Epoch: 0015 cost = 1.146472815\n",
      "Epoch: 0016 cost = 0.831330771\n",
      "Epoch: 0017 cost = 0.670980587\n",
      "Epoch: 0018 cost = 0.621681178\n",
      "Epoch: 0019 cost = 0.471467417\n",
      "Epoch: 0020 cost = 0.400899762\n",
      "Epoch: 0021 cost = 0.471131327\n",
      "Epoch: 0022 cost = 0.404255199\n",
      "Epoch: 0023 cost = 0.268658627\n",
      "Epoch: 0024 cost = 0.306620619\n",
      "Epoch: 0025 cost = 0.306680594\n",
      "Epoch: 0026 cost = 0.274839397\n",
      "Epoch: 0027 cost = 0.287358912\n",
      "Epoch: 0028 cost = 0.249946582\n",
      "Epoch: 0029 cost = 0.264162466\n",
      "Epoch: 0030 cost = 0.225786659\n",
      "Epoch: 0031 cost = 0.236766596\n",
      "Epoch: 0032 cost = 0.245731809\n",
      "Epoch: 0033 cost = 0.211554876\n",
      "Epoch: 0034 cost = 0.284691102\n",
      "Epoch: 0035 cost = 0.173199360\n",
      "Epoch: 0036 cost = 0.211570744\n",
      "Epoch: 0037 cost = 0.163223183\n",
      "Epoch: 0038 cost = 0.198217264\n",
      "Epoch: 0039 cost = 0.179113153\n",
      "Epoch: 0040 cost = 0.155397863\n",
      "Epoch: 0041 cost = 0.171609102\n",
      "Epoch: 0042 cost = 0.243229472\n",
      "Epoch: 0043 cost = 0.169659800\n",
      "Epoch: 0044 cost = 0.126707972\n",
      "Epoch: 0045 cost = 0.141977011\n",
      "Epoch: 0046 cost = 0.229759481\n",
      "Epoch: 0047 cost = 0.181752159\n",
      "Epoch: 0048 cost = 0.125260647\n",
      "Epoch: 0049 cost = 0.071712887\n",
      "Epoch: 0050 cost = 0.118349021\n",
      "Epoch: 0051 cost = 0.143889901\n",
      "Epoch: 0052 cost = 0.213968268\n",
      "Epoch: 0053 cost = 0.128171954\n",
      "Epoch: 0054 cost = 0.127011145\n",
      "Epoch: 0055 cost = 0.093573353\n",
      "Epoch: 0056 cost = 0.165265066\n",
      "Epoch: 0057 cost = 0.129233719\n",
      "Epoch: 0058 cost = 0.102753469\n",
      "Epoch: 0059 cost = 0.130345462\n",
      "Epoch: 0060 cost = 0.116907698\n",
      "Epoch: 0061 cost = 0.131098061\n",
      "Epoch: 0062 cost = 0.163096385\n",
      "Epoch: 0063 cost = 0.100449323\n",
      "Epoch: 0064 cost = 0.101205985\n",
      "Epoch: 0065 cost = 0.114202246\n",
      "Epoch: 0066 cost = 0.107775965\n",
      "Epoch: 0067 cost = 0.123336605\n",
      "Epoch: 0068 cost = 0.191638553\n",
      "Epoch: 0069 cost = 0.065645078\n",
      "Epoch: 0070 cost = 0.057635444\n",
      "Epoch: 0071 cost = 0.139135061\n",
      "Epoch: 0072 cost = 0.093685528\n",
      "Epoch: 0073 cost = 0.178414067\n",
      "Epoch: 0074 cost = 0.118035708\n",
      "Epoch: 0075 cost = 0.102371244\n",
      "Epoch: 0076 cost = 0.109416745\n",
      "Epoch: 0077 cost = 0.129591854\n",
      "Epoch: 0078 cost = 0.067844835\n",
      "Epoch: 0079 cost = 0.089890453\n",
      "Epoch: 0080 cost = 0.090536601\n",
      "Epoch: 0081 cost = 0.091412984\n",
      "Epoch: 0082 cost = 0.094669128\n",
      "Epoch: 0083 cost = 0.100816968\n",
      "Epoch: 0084 cost = 0.079434421\n",
      "Epoch: 0085 cost = 0.099241119\n",
      "Epoch: 0086 cost = 0.118217000\n",
      "Epoch: 0087 cost = 0.081229551\n",
      "Epoch: 0088 cost = 0.085589657\n",
      "Epoch: 0089 cost = 0.090649449\n",
      "Epoch: 0090 cost = 0.081817783\n",
      "Epoch: 0091 cost = 0.066963629\n",
      "Epoch: 0092 cost = 0.093477629\n",
      "Epoch: 0093 cost = 0.110449465\n",
      "Epoch: 0094 cost = 0.078640961\n",
      "Epoch: 0095 cost = 0.084941358\n",
      "Epoch: 0096 cost = 0.113579238\n",
      "Epoch: 0097 cost = 0.088793513\n",
      "Epoch: 0098 cost = 0.066768165\n",
      "Epoch: 0099 cost = 0.056100211\n",
      "Epoch: 0100 cost = 0.080592536\n",
      "Epoch: 0101 cost = 0.069946326\n",
      "Epoch: 0102 cost = 0.077396241\n",
      "Epoch: 0103 cost = 0.114753356\n",
      "Epoch: 0104 cost = 0.062546113\n",
      "Epoch: 0105 cost = 0.061044671\n",
      "Epoch: 0106 cost = 0.070148587\n",
      "Epoch: 0107 cost = 0.113301758\n",
      "Epoch: 0108 cost = 0.085176806\n",
      "Epoch: 0109 cost = 0.087651092\n",
      "Epoch: 0110 cost = 0.040164877\n",
      "Epoch: 0111 cost = 0.055251069\n",
      "Epoch: 0112 cost = 0.069251147\n",
      "Epoch: 0113 cost = 0.115439870\n",
      "Epoch: 0114 cost = 0.092447812\n",
      "Epoch: 0115 cost = 0.081044859\n",
      "Epoch: 0116 cost = 0.065935206\n",
      "Epoch: 0117 cost = 0.072041858\n",
      "Epoch: 0118 cost = 0.074704450\n",
      "Epoch: 0119 cost = 0.045378346\n",
      "Epoch: 0120 cost = 0.108275711\n",
      "Epoch: 0121 cost = 0.059297829\n",
      "Epoch: 0122 cost = 0.065647772\n",
      "Epoch: 0123 cost = 0.069102042\n",
      "Epoch: 0124 cost = 0.081526402\n",
      "Epoch: 0125 cost = 0.046001953\n",
      "Epoch: 0126 cost = 0.056468585\n",
      "Epoch: 0127 cost = 0.046695017\n",
      "Epoch: 0128 cost = 0.070357664\n",
      "Epoch: 0129 cost = 0.050051105\n",
      "Epoch: 0130 cost = 0.063075652\n",
      "Epoch: 0131 cost = 0.095984971\n",
      "Epoch: 0132 cost = 0.074206967\n",
      "Epoch: 0133 cost = 0.066717537\n",
      "Epoch: 0134 cost = 0.072493404\n",
      "Epoch: 0135 cost = 0.038184299\n",
      "Epoch: 0136 cost = 0.070743925\n",
      "Epoch: 0137 cost = 0.052053617\n",
      "Epoch: 0138 cost = 0.039411196\n",
      "Epoch: 0139 cost = 0.083445947\n",
      "Epoch: 0140 cost = 0.073641762\n",
      "Epoch: 0141 cost = 0.065285849\n",
      "Epoch: 0142 cost = 0.054037713\n",
      "Epoch: 0143 cost = 0.071912370\n",
      "Epoch: 0144 cost = 0.041930433\n",
      "Epoch: 0145 cost = 0.051833964\n",
      "Epoch: 0146 cost = 0.049204634\n",
      "Epoch: 0147 cost = 0.079029125\n",
      "Epoch: 0148 cost = 0.053904995\n",
      "Epoch: 0149 cost = 0.086244414\n",
      "Epoch: 0150 cost = 0.068620758\n",
      "Epoch: 0151 cost = 0.056635107\n",
      "Epoch: 0152 cost = 0.031140417\n",
      "Epoch: 0153 cost = 0.115176415\n",
      "Epoch: 0154 cost = 0.070641916\n",
      "Epoch: 0155 cost = 0.054512230\n",
      "Epoch: 0156 cost = 0.055126149\n",
      "Epoch: 0157 cost = 0.070198647\n",
      "Epoch: 0158 cost = 0.058483136\n",
      "Epoch: 0159 cost = 0.039603665\n",
      "Epoch: 0160 cost = 0.053197356\n",
      "Epoch: 0161 cost = 0.078001264\n",
      "Epoch: 0162 cost = 0.024521608\n",
      "Epoch: 0163 cost = 0.050717894\n",
      "Epoch: 0164 cost = 0.088669243\n",
      "Epoch: 0165 cost = 0.073932400\n",
      "Epoch: 0166 cost = 0.034415303\n",
      "Epoch: 0167 cost = 0.041607514\n",
      "Epoch: 0168 cost = 0.056399719\n",
      "Epoch: 0169 cost = 0.075722046\n",
      "Epoch: 0170 cost = 0.030012082\n",
      "Epoch: 0171 cost = 0.043164796\n",
      "Epoch: 0172 cost = 0.046740157\n",
      "Epoch: 0173 cost = 0.056852812\n",
      "Epoch: 0174 cost = 0.045938463\n",
      "Epoch: 0175 cost = 0.051587926\n",
      "Epoch: 0176 cost = 0.035846609\n",
      "Epoch: 0177 cost = 0.016468022\n",
      "Epoch: 0178 cost = 0.061578599\n",
      "Epoch: 0179 cost = 0.081564342\n",
      "Epoch: 0180 cost = 0.062442763\n",
      "Epoch: 0181 cost = 0.049856768\n",
      "Epoch: 0182 cost = 0.040103340\n",
      "Epoch: 0183 cost = 0.039065977\n",
      "Epoch: 0184 cost = 0.069568041\n",
      "Epoch: 0185 cost = 0.052360984\n",
      "Epoch: 0186 cost = 0.050676523\n",
      "Epoch: 0187 cost = 0.048521387\n",
      "Epoch: 0188 cost = 0.057946518\n",
      "Epoch: 0189 cost = 0.051618178\n",
      "Epoch: 0190 cost = 0.084154303\n",
      "Epoch: 0191 cost = 0.050431080\n",
      "Epoch: 0192 cost = 0.031942556\n",
      "Epoch: 0193 cost = 0.048991776\n",
      "Epoch: 0194 cost = 0.034665725\n",
      "Epoch: 0195 cost = 0.063634580\n",
      "Epoch: 0196 cost = 0.022833221\n",
      "Epoch: 0197 cost = 0.053670509\n",
      "Epoch: 0198 cost = 0.037393161\n",
      "Epoch: 0199 cost = 0.070751924\n",
      "Epoch: 0200 cost = 0.059178759\n",
      "Learning Finished!\n"
     ]
    }
   ],
   "source": [
    "# train my model\n",
    "for epoch in range(training_epochs):\n",
    "    avg_cost = 0\n",
    "    total_batch = int(mnist.train.num_examples / batch_size)\n",
    "\n",
    "    for i in range(total_batch):\n",
    "        batch_xs, batch_ys = mnist.train.next_batch(batch_size)\n",
    "        feed_dict = {X: batch_xs, Y: batch_ys}\n",
    "        c, _ = sess.run([cost, optimizer], feed_dict=feed_dict)\n",
    "        avg_cost += c / total_batch\n",
    "\n",
    "    print('Epoch:', '%04d' % (epoch + 1), 'cost =', '{:.9f}'.format(avg_cost))\n",
    "    vc.append(avg_cost)\n",
    "\n",
    "print('Learning Finished!')"
   ]
  },
  {
   "cell_type": "code",
   "execution_count": 11,
   "metadata": {},
   "outputs": [
    {
     "data": {
      "text/plain": [
       "[<matplotlib.lines.Line2D at 0x7f599d44fba8>]"
      ]
     },
     "execution_count": 11,
     "metadata": {},
     "output_type": "execute_result"
    },
    {
     "data": {
      "image/png": "[encoded data removed]",
      "text/plain": [
       "<Figure size 432x288 with 1 Axes>"
      ]
     },
     "metadata": {},
     "output_type": "display_data"
    }
   ],
   "source": [
    "plt.plot(vc)"
   ]
  },
  {
   "cell_type": "code",
   "execution_count": 12,
   "metadata": {},
   "outputs": [
    {
     "name": "stdout",
     "output_type": "stream",
     "text": [
      "<dtype: 'bool'>\n",
      "Accuracy: 0.9687\n"
     ]
    }
   ],
   "source": [
    "################################\n",
    "# 정확도 확인하기\n",
    "# Test model and check accuracy\n",
    "pred = tf.equal(tf.argmax(hypothesis, 1), tf.argmax(Y, 1))\n",
    "print (pred.dtype)\n",
    "accuracy = tf.reduce_mean(tf.cast(pred, tf.float32))\n",
    "print('Accuracy:', sess.run(accuracy, feed_dict={X: mnist.test.images, Y: mnist.test.labels}))"
   ]
  },
  {
   "cell_type": "code",
   "execution_count": null,
   "metadata": {},
   "outputs": [],
   "source": []
  }
 ],
 "metadata": {
  "kernelspec": {
   "display_name": "TF_Py3",
   "language": "python",
   "name": "py3tf"
  },
  "language_info": {
   "codemirror_mode": {
    "name": "ipython",
    "version": 3
   },
   "file_extension": ".py",
   "mimetype": "text/x-python",
   "name": "python",
   "nbconvert_exporter": "python",
   "pygments_lexer": "ipython3",
   "version": "3.5.2"
  }
 },
 "nbformat": 4,
 "nbformat_minor": 2
}
