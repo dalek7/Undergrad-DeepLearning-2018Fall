{
 "cells": [
  {
   "cell_type": "markdown",
   "metadata": {},
   "source": [
    "## MNIST Dataset 분류기 with Softmax"
   ]
  },
  {
   "cell_type": "markdown",
   "metadata": {},
   "source": [
    "* 한림대학교 딥러닝이해및활용 (710231)에 사용된 코드입니다. "
   ]
  },
  {
   "cell_type": "code",
   "execution_count": 1,
   "metadata": {},
   "outputs": [],
   "source": [
    "import tensorflow as tf\n",
    "import random\n",
    "from tensorflow.examples.tutorials.mnist import input_data\n",
    "import matplotlib.pyplot as plt"
   ]
  },
  {
   "cell_type": "code",
   "execution_count": 2,
   "metadata": {},
   "outputs": [],
   "source": [
    "tf.set_random_seed(777)  # reproducibility"
   ]
  },
  {
   "cell_type": "code",
   "execution_count": 3,
   "metadata": {},
   "outputs": [
    {
     "name": "stdout",
     "output_type": "stream",
     "text": [
      "Extracting ./MNIST_data/train-images-idx3-ubyte.gz\n",
      "Extracting ./MNIST_data/train-labels-idx1-ubyte.gz\n",
      "Extracting ./MNIST_data/t10k-images-idx3-ubyte.gz\n",
      "Extracting ./MNIST_data/t10k-labels-idx1-ubyte.gz\n"
     ]
    }
   ],
   "source": [
    "mnist = input_data.read_data_sets(\"./MNIST_data/\", one_hot=True)"
   ]
  },
  {
   "cell_type": "code",
   "execution_count": 4,
   "metadata": {},
   "outputs": [],
   "source": [
    "# parameters\n",
    "learning_rate = 0.001\n",
    "training_epochs = 50 #전체 데이터를 50번 학습하겠다\n",
    "batch_size = 128"
   ]
  },
  {
   "cell_type": "code",
   "execution_count": 5,
   "metadata": {},
   "outputs": [],
   "source": [
    "# input place holders\n",
    "X = tf.placeholder(tf.float32, [None, 784])\n",
    "Y = tf.placeholder(tf.float32, [None, 10])"
   ]
  },
  {
   "cell_type": "code",
   "execution_count": 6,
   "metadata": {},
   "outputs": [],
   "source": [
    "# weights & bias for nn layers\n",
    "W = tf.Variable(tf.random_normal([784, 10]))\n",
    "b = tf.Variable(tf.random_normal([10]))\n",
    "\n",
    "hypothesis = tf.matmul(X, W) + b\n",
    "\n",
    "# define cost/loss & optimizer\n",
    "#cost = tf.reduce_mean(tf.nn.softmax_cross_entropy_with_logits(logits=hypothesis, labels=Y))\n",
    "cost = tf.reduce_mean(tf.square(hypothesis - Y))\n",
    "\n",
    "optimizer = tf.train.AdamOptimizer(learning_rate=learning_rate).minimize(cost)\n"
   ]
  },
  {
   "cell_type": "code",
   "execution_count": 7,
   "metadata": {},
   "outputs": [],
   "source": [
    "# initialize\n",
    "sess = tf.InteractiveSession()\n",
    "sess.run(tf.global_variables_initializer())"
   ]
  },
  {
   "cell_type": "code",
   "execution_count": 8,
   "metadata": {},
   "outputs": [
    {
     "name": "stdout",
     "output_type": "stream",
     "text": [
      "Epoch: 0001 cost = 35.277450370\n",
      "Epoch: 0002 cost = 14.308401873\n",
      "Epoch: 0003 cost = 9.026778626\n",
      "Epoch: 0004 cost = 6.412436734\n",
      "Epoch: 0005 cost = 4.862800917\n",
      "Epoch: 0006 cost = 3.840647900\n",
      "Epoch: 0007 cost = 3.115457290\n",
      "Epoch: 0008 cost = 2.567167002\n",
      "Epoch: 0009 cost = 2.144114800\n",
      "Epoch: 0010 cost = 1.805606255\n",
      "Epoch: 0011 cost = 1.531944436\n",
      "Epoch: 0012 cost = 1.305222324\n",
      "Epoch: 0013 cost = 1.116181330\n",
      "Epoch: 0014 cost = 0.956514195\n",
      "Epoch: 0015 cost = 0.818951427\n",
      "Epoch: 0016 cost = 0.701222382\n",
      "Epoch: 0017 cost = 0.601362534\n",
      "Epoch: 0018 cost = 0.514871886\n",
      "Epoch: 0019 cost = 0.441104061\n",
      "Epoch: 0020 cost = 0.377390179\n",
      "Epoch: 0021 cost = 0.322839902\n",
      "Epoch: 0022 cost = 0.276691097\n",
      "Epoch: 0023 cost = 0.237337393\n",
      "Epoch: 0024 cost = 0.204031266\n",
      "Epoch: 0025 cost = 0.175245812\n",
      "Epoch: 0026 cost = 0.151707737\n",
      "Epoch: 0027 cost = 0.131606127\n",
      "Epoch: 0028 cost = 0.114884796\n",
      "Epoch: 0029 cost = 0.100642787\n",
      "Epoch: 0030 cost = 0.089358516\n",
      "Epoch: 0031 cost = 0.079655105\n",
      "Epoch: 0032 cost = 0.071808276\n",
      "Epoch: 0033 cost = 0.065404790\n",
      "Epoch: 0034 cost = 0.060298154\n",
      "Epoch: 0035 cost = 0.056030068\n",
      "Epoch: 0036 cost = 0.052966911\n",
      "Epoch: 0037 cost = 0.050096269\n",
      "Epoch: 0038 cost = 0.048156101\n",
      "Epoch: 0039 cost = 0.046373173\n",
      "Epoch: 0040 cost = 0.045021910\n",
      "Epoch: 0041 cost = 0.044102192\n",
      "Epoch: 0042 cost = 0.043257816\n",
      "Epoch: 0043 cost = 0.042415865\n",
      "Epoch: 0044 cost = 0.041963907\n",
      "Epoch: 0045 cost = 0.041563592\n",
      "Epoch: 0046 cost = 0.041420384\n",
      "Epoch: 0047 cost = 0.040901993\n",
      "Epoch: 0048 cost = 0.040698669\n",
      "Epoch: 0049 cost = 0.040597280\n",
      "Epoch: 0050 cost = 0.040464945\n",
      "Learning Finished!\n"
     ]
    }
   ],
   "source": [
    "# train my model\n",
    "for epoch in range(training_epochs):\n",
    "    avg_cost = 0\n",
    "    total_batch = int(mnist.train.num_examples / batch_size)\n",
    "\n",
    "    for i in range(total_batch):\n",
    "        batch_xs, batch_ys = mnist.train.next_batch(batch_size)\n",
    "        feed_dict = {X: batch_xs, Y: batch_ys}\n",
    "        c, _ = sess.run([cost, optimizer], feed_dict=feed_dict)\n",
    "        avg_cost += c / total_batch\n",
    "\n",
    "    print('Epoch:', '%04d' % (epoch + 1), 'cost =', '{:.9f}'.format(avg_cost))\n",
    "\n",
    "print('Learning Finished!')"
   ]
  },
  {
   "cell_type": "code",
   "execution_count": 10,
   "metadata": {},
   "outputs": [
    {
     "name": "stdout",
     "output_type": "stream",
     "text": [
      "<dtype: 'bool'>\n",
      "Accuracy: 0.852\n"
     ]
    }
   ],
   "source": [
    "################################\n",
    "# 정확도 확인하기\n",
    "# Test model and check accuracy\n",
    "pred = tf.equal(tf.argmax(hypothesis, 1), tf.argmax(Y, 1))\n",
    "print (pred.dtype)\n",
    "accuracy = tf.reduce_mean(tf.cast(pred, tf.float32))\n",
    "print('Accuracy:', sess.run(accuracy, feed_dict={X: mnist.test.images, Y: mnist.test.labels}))"
   ]
  },
  {
   "cell_type": "code",
   "execution_count": null,
   "metadata": {},
   "outputs": [],
   "source": []
  }
 ],
 "metadata": {
  "kernelspec": {
   "display_name": "TF_Py3",
   "language": "python",
   "name": "py3tf"
  },
  "language_info": {
   "codemirror_mode": {
    "name": "ipython",
    "version": 3
   },
   "file_extension": ".py",
   "mimetype": "text/x-python",
   "name": "python",
   "nbconvert_exporter": "python",
   "pygments_lexer": "ipython3",
   "version": "3.5.2"
  }
 },
 "nbformat": 4,
 "nbformat_minor": 2
}
